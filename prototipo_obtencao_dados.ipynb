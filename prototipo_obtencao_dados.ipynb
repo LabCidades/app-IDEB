{
 "cells": [
  {
   "cell_type": "code",
   "execution_count": 1,
   "id": "2b582ab1-492b-4b85-94c3-e44174b859d0",
   "metadata": {},
   "outputs": [],
   "source": [
    "import pandas as pd\n",
    "import requests\n",
    "from bs4 import BeautifulSoup"
   ]
  },
  {
   "cell_type": "code",
   "execution_count": 53,
   "id": "9cb542cb-f3af-4d4a-aac5-0c6f34f8578b",
   "metadata": {},
   "outputs": [],
   "source": [
    "class DadosAbertos:\n",
    "    \n",
    "    def __init__(self, url_conjunto, extensoes=('csv',)):\n",
    "        \n",
    "        self.url_conjunto = url_conjunto\n",
    "        self.extensoes=extensoes\n",
    "        self.recursos = self.parse_all_recursos(url_conjunto, extensoes)\n",
    "    \n",
    "    def get_page_conjunto(self, url):\n",
    "        \n",
    "        with requests.get(url) as r:\n",
    "            html = r.text\n",
    "        \n",
    "        return html\n",
    "    \n",
    "    def gerar_sopa(self, html):\n",
    "        \n",
    "        return BeautifulSoup(html)\n",
    "    \n",
    "    def listar_recursos(self, sopa):\n",
    "        \n",
    "        return sopa.find_all('li', {'class' : \"resource-item\"})\n",
    "    \n",
    "    def pegar_extensao(self, link):\n",
    "        \n",
    "        return link.split('.')[-1]\n",
    "    \n",
    "    def parsear_recurso(self, recurso):\n",
    "        \n",
    "        desc = recurso.find('p', {'class' : 'description'}).text.strip()\n",
    "        link = recurso.find('a', {'class' : \"resource-url-analytics\"})['href']\n",
    "        extensao = self.pegar_extensao(link)\n",
    "        \n",
    "        dados = {\n",
    "            'descricao' : desc,\n",
    "            'extensao' : extensao,\n",
    "            'link' : link\n",
    "        } \n",
    "        \n",
    "        return dados\n",
    "    \n",
    "    def check_extensao_suportada(self, extensoes_solicitadas):\n",
    "        \n",
    "        extensoes_suportadas = ('csv', 'xlsx', 'xls', 'txt')\n",
    "        for extensao in extensoes_solicitadas:\n",
    "            if extensao not in extensoes_suportadas:\n",
    "                raise NotImplementedError(f'Extensao {extensao} não suportada')\n",
    "    \n",
    "    def parse_all_recursos(self, url_conjunto, extensoes=('csv', )):\n",
    "        \n",
    "        self.check_extensao_suportada(extensoes)\n",
    "        \n",
    "        page_conjunto = self.get_page_conjunto(url_conjunto)\n",
    "        sopa = self.gerar_sopa(page_conjunto)\n",
    "        \n",
    "        parsed_data = []\n",
    "        recursos_raw = self.listar_recursos(sopa)\n",
    "        \n",
    "        for rec in recursos_raw:\n",
    "            \n",
    "            parsed_resource = self.parsear_recurso(rec)\n",
    "            \n",
    "            if parsed_resource['extensao'] in extensoes:\n",
    "            \n",
    "                parsed_data.append(parsed_resource)\n",
    "            \n",
    "            else:\n",
    "                print('Resource não listado por estar fora da extensão solicitada:')\n",
    "                print(f\"{parsed_resource['descricao']} : {parsed_resource['extensao']}\")\n",
    "        \n",
    "        return parsed_data\n",
    "\n",
    "                \n",
    "    def check_if_text_download(self, recurso_parsed):\n",
    "        \n",
    "        extensao = recurso_parsed['extensao']\n",
    "        self.check_extensao_suportada((extensao,))\n",
    "        \n",
    "        extensoes_textuais = ('csv', 'txt', 'xls', 'xlsx')\n",
    "        \n",
    "        if extensao in extensoes_textuais:\n",
    "            return True\n",
    "        return False\n",
    "    \n",
    "    def get_content(self, recurso_parsed):\n",
    "        \n",
    "        text_download = self.check_if_text_download(recurso_parsed)\n",
    "        \n",
    "        if text_download:\n",
    "            with requests.get(recurso_parsed['link']) as r:\n",
    "                return r.text\n",
    "        else:\n",
    "            with requests.get(recurso_parsed['link']) as r:\n",
    "                    return r.content\n",
    "    \n",
    "    def download_all(self, resource_list):\n",
    "        \n",
    "        for resource in resource_list:\n",
    "            yield self.get_content(resource)\n",
    "            \n",
    "    def __call__(self):\n",
    "        \n",
    "        return self.download_all(self.recursos)"
   ]
  },
  {
   "cell_type": "code",
   "execution_count": 54,
   "id": "3d154087-12ac-456c-9b8d-46d5895f7a17",
   "metadata": {},
   "outputs": [],
   "source": [
    "url_cadastro_escolas = ('http://dados.prefeitura.sp.gov.br/pt_PT/'\n",
    "                        'dataset/cadastro-de-escolas-municipais-conveniadas-e-privadas')"
   ]
  },
  {
   "cell_type": "code",
   "execution_count": 62,
   "id": "773c81c5-cfe5-4b72-b134-7a22d63f9b4b",
   "metadata": {},
   "outputs": [
    {
     "data": {
      "text/plain": [
       "'ï»¿dre;codesc;tipoesc;nomesc;ceu;diretoria;subpref;endereco;numero;bairro;cep;tel1;tel2;fax;situacao;coddist;distrito;setor;codinep;cd_cie;eh;fx_etaria;dt_criacao;ato_criacao;dom_criacao;dt_ini_conv;dt_ini_func;dt_autoriza;dt_extintao;nome_ant;rede;latitude;longitude;database\\r\\nBT;191;EMEF;ALIPIO CORREA NETO, PROF;;DIRETORIA REGIONAL DE EDUCACAO BUTANTA;BUTANTA;Avenida JOAO CAIAFFA;140;JARDIM TABOAO;5742100;58450121;;;ATIVA;94;VILA SONIA;9404;35098462.0;38488;1,621E+14;;27/05/1988;26.003;27/05/1988;;02/10/1988;16/03/1991;;ALIPIO CORREA NETO, PROF.;DIR;-23.612.237;-46.749.888;01/12/2019\\r\\nBT;213;EMEI;ANTONIO CARLOS PACHECO E SILVA, PROF;;DIRETORIA REGIONAL DE EDUCACAO BUTANTA;BUTANTA;Avenida JOÃ\\x83O CAIAFFA;90;JARDIM TABOÃ\\x83O;5742100;58448902;;;ATIVA;94;VILA SONIA;9404;35098504.0;13506;1,621E+14;;07/06/1988;26.117;07/06/1988;;26/09/1988;13/03/2001;;ANTONIO CARLOS PACHECO E SILVA, PROF.;DIR;-23.611.929;-46.750.176;01/12/2019\\r\\nBT;477;EMEF;PROFA. EDA TEREZINHA CHICA MEDEIROS;;DIRETORIA REGIONAL DE EDUCACAO BUTANTA;BUTANTA;Rua ENGENHEIRO HUGO TAKAHASHI;333;RAPOSO TAVARES;5563120;37820714;;;ATIVA;65;RAPOSO TAVARES;6504;35098474.0;19766;1,621E+14;;26/10/1988;27.212;26/10/1988;;20/02/1989;16/03/1991;;EDA TEREZINHA CHICA MEDEIROS, PROFA.;DIR;-23.602.076;-46.783.825;01/12/2019\\r\\nBT;11924;EMEF;PROFA. MARIA ALICE BORGES GHION;;DIRETORIA REGIONAL DE EDUCACAO BUTANTA;BUTANTA;Rua CACHOEIRA PORAQUÃ\\x8a;575;CONJUNTO PROMORAR RAPOSO TAVARES;5574450;37828909;37829756;;ATIVA;65;RAPOSO TAVARES;6501;35076181.0;44289;1,621E+14;;17/02/1992;31.240;17/02/1992;;20/02/1992;13/03/2001;;COHAB RAPOSO TAVARES;DIR;-23.586.959;-46.801.039;01/12/2019\\r\\nBT;14591;EMEI;PROF. BENEDICTO CASTRUCCI;;DIRETORIA REGIONAL DE EDUCACAO BUTANTA;BUTANTA;Rua CACHOEIRA PORAQUE;S/N   ;CONJUNTO PROMORAR RAPOSO TAVARES;5574450;37814833;;;ATIVA;65;RAPOSO TAVARES;6501;35200074.0;20806;1,621E+14;;02/03/1994;34.005;02/03/1994;;13/04/1994;13/03/2001;;CONJ. HABITACIONAL RAPOSO TAVARES;DIR;-23.586.339;-46.800.967;01/12/2019\\r\\nBT;18236;EM'"
      ]
     },
     "execution_count": 62,
     "metadata": {},
     "output_type": "execute_result"
    }
   ],
   "source": [
    "data[1][:2000]"
   ]
  },
  {
   "cell_type": "code",
   "execution_count": null,
   "id": "34ff7566-e8c0-4102-916f-5a635ac760d7",
   "metadata": {},
   "outputs": [],
   "source": []
  }
 ],
 "metadata": {
  "kernelspec": {
   "display_name": "Python 3",
   "language": "python",
   "name": "python3"
  },
  "language_info": {
   "codemirror_mode": {
    "name": "ipython",
    "version": 3
   },
   "file_extension": ".py",
   "mimetype": "text/x-python",
   "name": "python",
   "nbconvert_exporter": "python",
   "pygments_lexer": "ipython3",
   "version": "3.8.8"
  }
 },
 "nbformat": 4,
 "nbformat_minor": 5
}
